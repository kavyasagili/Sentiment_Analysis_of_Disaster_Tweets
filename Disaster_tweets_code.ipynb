{
 "cells": [
  {
   "cell_type": "code",
   "execution_count": 1,
   "id": "1a1dcc48",
   "metadata": {},
   "outputs": [],
   "source": [
    "import pandas as pd\n",
    "import numpy as np\n",
    "import matplotlib.pyplot as plt\n",
    "import nltk\n",
    "from nltk.corpus import stopwords\n",
    "from nltk import word_tokenize\n",
    "from nltk.stem import WordNetLemmatizer\n",
    "from nltk import tokenize\n",
    "import re\n",
    "from sklearn.feature_extraction.text import CountVectorizer\n",
    "from sklearn.model_selection import train_test_split\n",
    "from sklearn.naive_bayes import MultinomialNB\n",
    "from sklearn.linear_model import LogisticRegression\n",
    "from sklearn.neighbors import KNeighborsClassifier\n",
    "from sklearn.metrics import confusion_matrix, classification_report,accuracy_score"
   ]
  },
  {
   "cell_type": "code",
   "execution_count": 4,
   "id": "3a9f4481",
   "metadata": {},
   "outputs": [
    {
     "data": {
      "text/html": [
       "<div>\n",
       "<style scoped>\n",
       "    .dataframe tbody tr th:only-of-type {\n",
       "        vertical-align: middle;\n",
       "    }\n",
       "\n",
       "    .dataframe tbody tr th {\n",
       "        vertical-align: top;\n",
       "    }\n",
       "\n",
       "    .dataframe thead th {\n",
       "        text-align: right;\n",
       "    }\n",
       "</style>\n",
       "<table border=\"1\" class=\"dataframe\">\n",
       "  <thead>\n",
       "    <tr style=\"text-align: right;\">\n",
       "      <th></th>\n",
       "      <th>tweets</th>\n",
       "      <th>target</th>\n",
       "    </tr>\n",
       "  </thead>\n",
       "  <tbody>\n",
       "    <tr>\n",
       "      <th>0</th>\n",
       "      <td>Our Deeds are the Reason of this #earthquake M...</td>\n",
       "      <td>1</td>\n",
       "    </tr>\n",
       "    <tr>\n",
       "      <th>1</th>\n",
       "      <td>Forest fire near La Ronge Sask. Canada</td>\n",
       "      <td>1</td>\n",
       "    </tr>\n",
       "    <tr>\n",
       "      <th>2</th>\n",
       "      <td>All residents asked to 'shelter in place' are ...</td>\n",
       "      <td>1</td>\n",
       "    </tr>\n",
       "    <tr>\n",
       "      <th>3</th>\n",
       "      <td>13,000 people receive #wildfires evacuation or...</td>\n",
       "      <td>1</td>\n",
       "    </tr>\n",
       "    <tr>\n",
       "      <th>4</th>\n",
       "      <td>Just got sent this photo from Ruby #Alaska as ...</td>\n",
       "      <td>1</td>\n",
       "    </tr>\n",
       "  </tbody>\n",
       "</table>\n",
       "</div>"
      ],
      "text/plain": [
       "                                              tweets  target\n",
       "0  Our Deeds are the Reason of this #earthquake M...       1\n",
       "1             Forest fire near La Ronge Sask. Canada       1\n",
       "2  All residents asked to 'shelter in place' are ...       1\n",
       "3  13,000 people receive #wildfires evacuation or...       1\n",
       "4  Just got sent this photo from Ruby #Alaska as ...       1"
      ]
     },
     "execution_count": 4,
     "metadata": {},
     "output_type": "execute_result"
    }
   ],
   "source": [
    "df=pd.read_csv(\"D:\\disaster_tweets_data(DS).csv\")\n",
    "df1=pd.read_csv(\"D:\\disaster_tweets_data(DS).csv\")\n",
    "df.head()"
   ]
  },
  {
   "cell_type": "code",
   "execution_count": 5,
   "id": "3e656ad9",
   "metadata": {},
   "outputs": [
    {
     "data": {
      "text/plain": [
       "tweets    0\n",
       "target    0\n",
       "dtype: int64"
      ]
     },
     "execution_count": 5,
     "metadata": {},
     "output_type": "execute_result"
    }
   ],
   "source": [
    "#CHECKING NULL VALUES\n",
    "df.isnull().sum()\n"
   ]
  },
  {
   "cell_type": "code",
   "execution_count": 6,
   "id": "3bf188b7",
   "metadata": {},
   "outputs": [
    {
     "data": {
      "text/html": [
       "<div>\n",
       "<style scoped>\n",
       "    .dataframe tbody tr th:only-of-type {\n",
       "        vertical-align: middle;\n",
       "    }\n",
       "\n",
       "    .dataframe tbody tr th {\n",
       "        vertical-align: top;\n",
       "    }\n",
       "\n",
       "    .dataframe thead th {\n",
       "        text-align: right;\n",
       "    }\n",
       "</style>\n",
       "<table border=\"1\" class=\"dataframe\">\n",
       "  <thead>\n",
       "    <tr style=\"text-align: right;\">\n",
       "      <th></th>\n",
       "      <th>tweets</th>\n",
       "    </tr>\n",
       "  </thead>\n",
       "  <tbody>\n",
       "    <tr>\n",
       "      <th>0</th>\n",
       "      <td>Our Deeds are the Reason of this #earthquake M...</td>\n",
       "    </tr>\n",
       "    <tr>\n",
       "      <th>1</th>\n",
       "      <td>Forest fire near La Ronge Sask. Canada</td>\n",
       "    </tr>\n",
       "    <tr>\n",
       "      <th>2</th>\n",
       "      <td>All residents asked to 'shelter in place' are ...</td>\n",
       "    </tr>\n",
       "    <tr>\n",
       "      <th>3</th>\n",
       "      <td>13,000 people receive #wildfires evacuation or...</td>\n",
       "    </tr>\n",
       "    <tr>\n",
       "      <th>4</th>\n",
       "      <td>Just got sent this photo from Ruby #Alaska as ...</td>\n",
       "    </tr>\n",
       "  </tbody>\n",
       "</table>\n",
       "</div>"
      ],
      "text/plain": [
       "                                              tweets\n",
       "0  Our Deeds are the Reason of this #earthquake M...\n",
       "1             Forest fire near La Ronge Sask. Canada\n",
       "2  All residents asked to 'shelter in place' are ...\n",
       "3  13,000 people receive #wildfires evacuation or...\n",
       "4  Just got sent this photo from Ruby #Alaska as ..."
      ]
     },
     "execution_count": 6,
     "metadata": {},
     "output_type": "execute_result"
    }
   ],
   "source": [
    "df=df.iloc[:,:1]\n",
    "df.head()"
   ]
  },
  {
   "cell_type": "code",
   "execution_count": 8,
   "id": "0836b810",
   "metadata": {},
   "outputs": [
    {
     "name": "stdout",
     "output_type": "stream",
     "text": [
      "['i', 'me', 'my', 'myself', 'we', 'our', 'ours', 'ourselves', 'you', \"you're\", \"you've\", \"you'll\", \"you'd\", 'your', 'yours', 'yourself', 'yourselves', 'he', 'him', 'his', 'himself', 'she', \"she's\", 'her', 'hers', 'herself', 'it', \"it's\", 'its', 'itself', 'they', 'them', 'their', 'theirs', 'themselves', 'what', 'which', 'who', 'whom', 'this', 'that', \"that'll\", 'these', 'those', 'am', 'is', 'are', 'was', 'were', 'be', 'been', 'being', 'have', 'has', 'had', 'having', 'do', 'does', 'did', 'doing', 'a', 'an', 'the', 'and', 'but', 'if', 'or', 'because', 'as', 'until', 'while', 'of', 'at', 'by', 'for', 'with', 'about', 'against', 'between', 'into', 'through', 'during', 'before', 'after', 'above', 'below', 'to', 'from', 'up', 'down', 'in', 'out', 'on', 'off', 'over', 'under', 'again', 'further', 'then', 'once', 'here', 'there', 'when', 'where', 'why', 'how', 'all', 'any', 'both', 'each', 'few', 'more', 'most', 'other', 'some', 'such', 'no', 'nor', 'not', 'only', 'own', 'same', 'so', 'than', 'too', 'very', 's', 't', 'can', 'will', 'just', 'don', \"don't\", 'should', \"should've\", 'now', 'd', 'll', 'm', 'o', 're', 've', 'y', 'ain', 'aren', \"aren't\", 'couldn', \"couldn't\", 'didn', \"didn't\", 'doesn', \"doesn't\", 'hadn', \"hadn't\", 'hasn', \"hasn't\", 'haven', \"haven't\", 'isn', \"isn't\", 'ma', 'mightn', \"mightn't\", 'mustn', \"mustn't\", 'needn', \"needn't\", 'shan', \"shan't\", 'shouldn', \"shouldn't\", 'wasn', \"wasn't\", 'weren', \"weren't\", 'won', \"won't\", 'wouldn', \"wouldn't\"]\n"
     ]
    }
   ],
   "source": [
    "#PREPROCESSING DATA\n",
    "sw=stopwords.words('English')\n",
    "print(sw)\n",
    "lm=WordNetLemmatizer()\n",
    "data=[]\n",
    "for i in df['tweets']:    \n",
    "    t=i.lower() #converting to lower\n",
    "    t=re.sub('[^A-Za-z]',' ',t) #removing punctuations\n",
    "    t=word_tokenize(t) #tokenizing\n",
    "    t=[i for i in t if i not in sw] #removing stop words\n",
    "    t=[lm.lemmatize(i) for i in t] #lemmatization\n",
    "    data.append(t)"
   ]
  },
  {
   "cell_type": "code",
   "execution_count": 9,
   "id": "d95a8010",
   "metadata": {},
   "outputs": [],
   "source": [
    "cleansed_tweet=[]\n",
    "for i in df['tweets']:\n",
    "    t=i.lower() #converting to lower\n",
    "    t=re.sub('[^A-Za-z]',' ',t) #removing punctuations\n",
    "    t=word_tokenize(t) #tokenizing\n",
    "    t=[i for i in t if i not in sw] #removing stop words\n",
    "    t=[lm.lemmatize(i) for i in t] #lemmatization\n",
    "    t=\" \".join(t)\n",
    "    cleansed_tweet.append(t)"
   ]
  },
  {
   "cell_type": "code",
   "execution_count": 10,
   "id": "f0d17789",
   "metadata": {},
   "outputs": [
    {
     "name": "stdout",
     "output_type": "stream",
     "text": [
      "['aa' 'aaaa' 'aaaaaaallll' ... 'zzuz' 'zzweeezjug' 'zzzz']\n",
      "20675\n",
      "[[0 0 0 ... 0 0 0]\n",
      " [0 0 0 ... 0 0 0]\n",
      " [0 0 0 ... 0 0 0]\n",
      " ...\n",
      " [0 0 0 ... 0 0 0]\n",
      " [0 0 0 ... 0 0 0]\n",
      " [0 0 0 ... 0 0 0]]\n"
     ]
    }
   ],
   "source": [
    "#VECTORIZATION\n",
    "cv=CountVectorizer()\n",
    "res_cv=cv.fit_transform(cleansed_tweet).toarray()\n",
    "print(cv.get_feature_names_out())\n",
    "print(len(cv.get_feature_names_out()))\n",
    "print(res_cv)"
   ]
  },
  {
   "cell_type": "code",
   "execution_count": 11,
   "id": "dec74bec",
   "metadata": {},
   "outputs": [
    {
     "name": "stdout",
     "output_type": "stream",
     "text": [
      "<class 'numpy.ndarray'>\n",
      "<class 'pandas.core.series.Series'>\n"
     ]
    }
   ],
   "source": [
    "#SELECTING INDEPENDENT AND DEPENDENT FEATURES AS TWEETS AND TARGET\n",
    "x = np.array(cleansed_tweet)\n",
    "y =df1['target']\n",
    "print(type(x))\n",
    "print(type(y))"
   ]
  },
  {
   "cell_type": "code",
   "execution_count": 12,
   "id": "4de8672e",
   "metadata": {},
   "outputs": [
    {
     "name": "stdout",
     "output_type": "stream",
     "text": [
      "(5709,)\n",
      "(1904,)\n",
      "(5709,)\n",
      "(1904,)\n",
      "(5709, 16959)\n",
      "(1904, 16959)\n"
     ]
    }
   ],
   "source": [
    "#SPLITING INTO TEST AND TRAIN DATA\n",
    "x_train,x_test,y_train,y_test=train_test_split(x,y,test_size=0.25,random_state=42)\n",
    "print(x_train.shape)\n",
    "print(x_test.shape)\n",
    "print(y_train.shape)\n",
    "print(y_test.shape)\n",
    "cv.fit(x_train)\n",
    "x_train_cv=cv.transform(x_train).toarray()\n",
    "x_test_cv=cv.transform(x_test).toarray()\n",
    "print(x_train_cv.shape)\n",
    "print(x_test_cv.shape)"
   ]
  },
  {
   "cell_type": "code",
   "execution_count": 13,
   "id": "b8d3fcdd",
   "metadata": {},
   "outputs": [
    {
     "name": "stdout",
     "output_type": "stream",
     "text": [
      "Train Score 0.928709055876686\n",
      "Test Score 0.7946428571428571\n"
     ]
    }
   ],
   "source": [
    "#MODEL BUILDING\n",
    "#1)Multinomial Naive Bayes Classification\n",
    "nb_classifier=MultinomialNB()\n",
    "nb_classifier.fit(x_train_cv,y_train)\n",
    "print('Train Score',nb_classifier.score(x_train_cv,y_train))\n",
    "print('Test Score',nb_classifier.score(x_test_cv,y_test))"
   ]
  },
  {
   "cell_type": "code",
   "execution_count": 15,
   "id": "1b1b2656",
   "metadata": {},
   "outputs": [
    {
     "name": "stdout",
     "output_type": "stream",
     "text": [
      "Train Score 0.9740760203187949\n",
      "Test Score 0.7993697478991597\n"
     ]
    }
   ],
   "source": [
    "#2)Logistic Regression\n",
    "lr_classifier = LogisticRegression()\n",
    "lr_classifier.fit(x_train_cv,y_train)\n",
    "print('Train Score',lr_classifier.score(x_train_cv,y_train))\n",
    "print('Test Score',lr_classifier.score(x_test_cv,y_test))"
   ]
  },
  {
   "cell_type": "code",
   "execution_count": 16,
   "id": "8e7cc361",
   "metadata": {},
   "outputs": [
    {
     "name": "stdout",
     "output_type": "stream",
     "text": [
      "Train Score 0.7087055526361885\n",
      "Test Score 0.6712184873949579\n"
     ]
    }
   ],
   "source": [
    "#3)KNN Classification\n",
    "knn_classifier = KNeighborsClassifier()\n",
    "knn_classifier.fit(x_train_cv,y_train)\n",
    "print('Train Score',knn_classifier.score(x_train_cv,y_train))\n",
    "print('Test Score',knn_classifier.score(x_test_cv,y_test))"
   ]
  },
  {
   "cell_type": "code",
   "execution_count": 19,
   "id": "f91fef14",
   "metadata": {},
   "outputs": [],
   "source": [
    "#Predicting the data\n",
    "nb_predictions = nb_classifier.predict(x_test_cv)\n",
    "lr_predictions = lr_classifier.predict(x_test_cv)\n",
    "knn_predictions = knn_classifier.predict(x_test_cv)"
   ]
  },
  {
   "cell_type": "code",
   "execution_count": 20,
   "id": "15adf716",
   "metadata": {},
   "outputs": [],
   "source": [
    "nb_confusion_matrix = confusion_matrix(y_test, nb_predictions)\n",
    "nb_classification_report = classification_report(y_test, nb_predictions)\n",
    "lr_confusion_matrix = confusion_matrix(y_test, lr_predictions)\n",
    "lr_classification_report = classification_report(y_test, lr_predictions)\n",
    "nb_confusion_matrix = confusion_matrix(y_test, knn_predictions)\n",
    "nb_classification_report = classification_report(y_test, knn_predictions)"
   ]
  },
  {
   "cell_type": "code",
   "execution_count": 21,
   "id": "af134db1",
   "metadata": {},
   "outputs": [
    {
     "name": "stdout",
     "output_type": "stream",
     "text": [
      "[[908 183]\n",
      " [208 605]]\n",
      "              precision    recall  f1-score   support\n",
      "\n",
      "           0       0.81      0.83      0.82      1091\n",
      "           1       0.77      0.74      0.76       813\n",
      "\n",
      "    accuracy                           0.79      1904\n",
      "   macro avg       0.79      0.79      0.79      1904\n",
      "weighted avg       0.79      0.79      0.79      1904\n",
      "\n"
     ]
    }
   ],
   "source": [
    "#confusion matrix and classification report for Multinomial Naive Bayes Classification\n",
    "print(confusion_matrix(y_test,nb_predictions))\n",
    "print(classification_report(y_test,nb_predictions))"
   ]
  },
  {
   "cell_type": "code",
   "execution_count": 22,
   "id": "dfed56e7",
   "metadata": {},
   "outputs": [
    {
     "name": "stdout",
     "output_type": "stream",
     "text": [
      "[[944 147]\n",
      " [235 578]]\n",
      "              precision    recall  f1-score   support\n",
      "\n",
      "           0       0.80      0.87      0.83      1091\n",
      "           1       0.80      0.71      0.75       813\n",
      "\n",
      "    accuracy                           0.80      1904\n",
      "   macro avg       0.80      0.79      0.79      1904\n",
      "weighted avg       0.80      0.80      0.80      1904\n",
      "\n"
     ]
    }
   ],
   "source": [
    "#confusion matrix and classification report for Logistic Regression\n",
    "print(confusion_matrix(y_test,lr_predictions))\n",
    "print(classification_report(y_test,lr_predictions))"
   ]
  },
  {
   "cell_type": "code",
   "execution_count": 23,
   "id": "23d4230a",
   "metadata": {},
   "outputs": [
    {
     "name": "stdout",
     "output_type": "stream",
     "text": [
      "[[1079   12]\n",
      " [ 614  199]]\n",
      "              precision    recall  f1-score   support\n",
      "\n",
      "           0       0.64      0.99      0.78      1091\n",
      "           1       0.94      0.24      0.39       813\n",
      "\n",
      "    accuracy                           0.67      1904\n",
      "   macro avg       0.79      0.62      0.58      1904\n",
      "weighted avg       0.77      0.67      0.61      1904\n",
      "\n"
     ]
    }
   ],
   "source": [
    "#confusion matrix and classification report for KNN Classification\n",
    "print(confusion_matrix(y_test,knn_predictions))\n",
    "print(classification_report(y_test,knn_predictions))"
   ]
  },
  {
   "cell_type": "code",
   "execution_count": 25,
   "id": "e500cee5",
   "metadata": {},
   "outputs": [
    {
     "name": "stdout",
     "output_type": "stream",
     "text": [
      "Accuracy - k-nearest neighbors: 0.67\n",
      "Accuracy - logistic regression: 0.80\n",
      "Accuracy - multinomial Naive Bayes: 0.79\n",
      "The best model is: logistic regression with an accuracy of 0.80\n"
     ]
    }
   ],
   "source": [
    "#REPORTING THE BEST ACCURACY MODEL\n",
    "accuracy_knn=accuracy_score(y_test,knn_predictions)\n",
    "accuracy_lr=accuracy_score(y_test,lr_predictions)\n",
    "accuracy_nb=accuracy_score(y_test,nb_predictions)\n",
    "print(f\"Accuracy - k-nearest neighbors: {accuracy_knn:.2f}\")\n",
    "print(f\"Accuracy - logistic regression: {accuracy_lr:.2f}\")\n",
    "print(f\"Accuracy - multinomial Naive Bayes: {accuracy_nb:.2f}\")\n",
    "best_model=None\n",
    "best_accuracy=0.0\n",
    "best_model = None\n",
    "best_accuracy = 0.0\n",
    "\n",
    "if accuracy_knn > best_accuracy:\n",
    "    best_model = \"k-nearest neighbors\"\n",
    "    best_accuracy = accuracy_knn\n",
    "    \n",
    "if accuracy_lr > best_accuracy:\n",
    "    best_model = \"logistic regression\"\n",
    "    best_accuracy = accuracy_lr\n",
    "    \n",
    "if accuracy_nb > best_accuracy:\n",
    "    best_model = \"multinomial Naive Bayes\"\n",
    "    best_accuracy = accuracy_mnb\n",
    "    \n",
    "print(f\"The best model is: {best_model} with an accuracy of {best_accuracy:.2f}\")"
   ]
  },
  {
   "cell_type": "code",
   "execution_count": null,
   "id": "6f775210",
   "metadata": {},
   "outputs": [],
   "source": []
  }
 ],
 "metadata": {
  "kernelspec": {
   "display_name": "Python 3 (ipykernel)",
   "language": "python",
   "name": "python3"
  },
  "language_info": {
   "codemirror_mode": {
    "name": "ipython",
    "version": 3
   },
   "file_extension": ".py",
   "mimetype": "text/x-python",
   "name": "python",
   "nbconvert_exporter": "python",
   "pygments_lexer": "ipython3",
   "version": "3.10.9"
  }
 },
 "nbformat": 4,
 "nbformat_minor": 5
}
